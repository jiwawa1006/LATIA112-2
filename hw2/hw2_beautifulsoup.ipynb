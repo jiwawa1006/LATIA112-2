{
  "nbformat": 4,
  "nbformat_minor": 0,
  "metadata": {
    "colab": {
      "provenance": []
    },
    "kernelspec": {
      "name": "python3",
      "display_name": "Python 3"
    },
    "language_info": {
      "name": "python"
    }
  },
  "cells": [
    {
      "cell_type": "code",
      "source": [
        "# 從google.colab庫中導入drive模組，連線到google drive\n",
        "# 將google drive掛載到colab環境上，並將掛載路徑設置為'/content/gdrive/'\n",
        "# 設定force_remount=True以強制重新掛載，以防google drive已經掛載\n",
        "from google.colab import drive\n",
        "drive.mount('/content/gdrive/', force_remount=True)\n",
        "\n",
        "# 導入os模組以與操作系統進行互動\n",
        "# 將當前工作目錄更改為google drive中指定的路徑\n",
        "# 執行'ls'，列出指定目錄中的文件和目錄\n",
        "import os\n",
        "os.chdir(\"/content/gdrive/My Drive/112_2_LATIA/hw2_0507\")\n",
        "os.listdir()"
      ],
      "metadata": {
        "colab": {
          "base_uri": "https://localhost:8080/"
        },
        "id": "6EDmS8mqxNWT",
        "outputId": "7fed3355-a2b6-4366-9393-b64f378ba1d8"
      },
      "execution_count": null,
      "outputs": [
        {
          "output_type": "stream",
          "name": "stdout",
          "text": [
            "Mounted at /content/gdrive/\n"
          ]
        },
        {
          "output_type": "execute_result",
          "data": {
            "text/plain": [
              "[]"
            ]
          },
          "metadata": {},
          "execution_count": 1
        }
      ]
    },
    {
      "cell_type": "code",
      "source": [
        "# 導入requests函式庫\n",
        "# 從bs4套件中導入BeautifulSoup\n",
        "import requests\n",
        "from bs4 import BeautifulSoup\n",
        "\n",
        "# 設定網頁請求的標頭，包含偽裝的Cookie和User-Agent資訊\n",
        "# 發送GET請求，獲取網頁HTML內容\n",
        "# 使用BeautifulSoup將HTML字串解析為soup物件，並指定解析器為\"lxml\"\n",
        "headers={\"Cookie\":\"ccsid=567-4531762-3532412; locale=zh; __qca=P0-791366753-1714221337810; csm-sid=736-7180174-5547096; session-id=137-7469860-6183237; session-id-time=2344941806l; lc-main=en_US; csm-hit=tb:s-J7EBEQGAXWMN5T9CQ273|1714221806771&t:1714221806771; __gads=ID=380b5b6aedb3b17b:T=1714221375:RT=1714319314:S=ALNI_MaYTfS8r28Y-am29Yk0vQjZwIyOrA; __gpi=UID=00000dfd2f4ef62d:T=1714221375:RT=1714319314:S=ALNI_MZQ5xFFIq3GmQF94OJjGl92Ur-7Ug; __eoi=ID=eb24cb131a8b3a9d:T=1714221375:RT=1714319314:S=AA-AfjaAfMYrSf8qx9ztp2NaKRrj; blocking_sign_in_interstitial=true; _session_id2=bb23b8efd95f09c6ba386266bc570395\",\n",
        "         \"User-Agent\":\"Mozilla/5.0 (Macintosh; Intel Mac OS X 10_15_7) AppleWebKit/537.36 (KHTML, like Gecko) Chrome/124.0.0.0 Safari/537.36\"}\n",
        "html_text=requests.get(\"https://www.goodreads.com/search?utf8=%E2%9C%93&query=dune\",headers=headers).text\n",
        "soup=BeautifulSoup(html_text,\"lxml\")\n",
        "\n",
        "# 使用find_all找到itemtype為http://schema.org/Book'的<tr>標籤，並將其儲存在books列表中\n",
        "books=soup.find_all(\"tr\",itemtype=\"http://schema.org/Book\")\n",
        "\n",
        "# 初始化空列表books_info以存儲書籍資料\n",
        "# 對books列表中book書籍資料進行迴圈\n",
        "# 使用find位函數，分別找出每本書籍資料對應的書名、作者、星數、評論數、出版日期、編輯次數和連結\n",
        "# 對於每本書本資料進行篩選，將符合書名中有集數編號'#'和作者為'Frank Herbert'的沙丘六部曲書籍資料以字典的形式加到books_info列表中\n",
        "books_info=[]\n",
        "for book in books:\n",
        "\n",
        "  book_title=book.find(\"a\",class_=\"bookTitle\").text[1:-1]\n",
        "  book_author=book.find(\"a\",class_=\"authorName\").text\n",
        "  book_stars_rates=book.find(\"span\",class_=\"minirating\").text\n",
        "  book_stars=book_stars_rates[1:5]\n",
        "  book_rates=book_stars_rates[19:-8]\n",
        "  book_published=book.find(\"span\",class_=\"greyText smallText uitext\").text.split(\"\\n\")[4].replace(\" \",\"\")\n",
        "  book_editions=book.find(\"a\",class_=\"greyText\").text[:-9]\n",
        "  book_url=\"https://www.goodreads.com/\"+book.a[\"href\"]\n",
        "\n",
        "  if \"#\" in book_title and book_author==\"Frank Herbert\":\n",
        "    books_info.append({\"title\":book_title,\"author\":book_author,\"stars\":book_stars,\"rates\":book_rates,\"published\":book_published,\"editions\":book_editions,\"url\":book_url})\n",
        "\n",
        "# 對books列表中book書籍資料進行迴圈，印出每本書籍資料\n",
        "for book_info in books_info:\n",
        "  print(book_info)\n"
      ],
      "metadata": {
        "colab": {
          "base_uri": "https://localhost:8080/"
        },
        "id": "G4u4inNC400Z",
        "outputId": "ff0f2e1f-53dd-468a-c711-cf202dbc5fca"
      },
      "execution_count": null,
      "outputs": [
        {
          "output_type": "stream",
          "name": "stdout",
          "text": [
            "{'title': 'Dune (Dune #1)', 'author': 'Frank Herbert', 'stars': '4.27', 'rates': '1,371,317', 'published': '1965', 'editions': '17', 'url': 'https://www.goodreads.com//book/show/44767458-dune?from_search=true&from_srp=true&qid=ZSON7XfcPI&rank=1'}\n",
            "{'title': 'Dune Messiah (Dune, #2)', 'author': 'Frank Herbert', 'stars': '3.89', 'rates': '295,664', 'published': '1969', 'editions': '263', 'url': 'https://www.goodreads.com//book/show/44492285-dune-messiah?from_search=true&from_srp=true&qid=ZSON7XfcPI&rank=2'}\n",
            "{'title': 'Children of Dune (Dune #3)', 'author': 'Frank Herbert', 'stars': '3.96', 'rates': '190,900', 'published': '1976', 'editions': '236', 'url': 'https://www.goodreads.com//book/show/44492286-children-of-dune?from_search=true&from_srp=true&qid=ZSON7XfcPI&rank=3'}\n",
            "{'title': 'God Emperor of Dune (Dune #4)', 'author': 'Frank Herbert', 'stars': '3.88', 'rates': '113,259', 'published': '1981', 'editions': '8', 'url': 'https://www.goodreads.com//book/show/44439415-god-emperor-of-dune?from_search=true&from_srp=true&qid=ZSON7XfcPI&rank=5'}\n",
            "{'title': 'Heretics of Dune (Dune, #5)', 'author': 'Frank Herbert', 'stars': '3.87', 'rates': '82,664', 'published': '1984', 'editions': '175', 'url': 'https://www.goodreads.com//book/show/44492287-heretics-of-dune?from_search=true&from_srp=true&qid=ZSON7XfcPI&rank=6'}\n",
            "{'title': 'Chapterhouse: Dune (Dune #6)', 'author': 'Frank Herbert', 'stars': '3.90', 'rates': '68,201', 'published': '1985', 'editions': '4', 'url': 'https://www.goodreads.com//book/show/44439416-chapterhouse?from_search=true&from_srp=true&qid=ZSON7XfcPI&rank=8'}\n"
          ]
        }
      ]
    },
    {
      "cell_type": "code",
      "source": [
        "# 導入csv模組\n",
        "import csv\n",
        "\n",
        "# 指定csv檔案的路徑，設定為'/content/gdrive/My Drive/112_2_LATIA/hw2_0507/dune_series_book_info.csv'\n",
        "# 開啟csv檔案，使用'w'模式寫入，並設定newline=''避免插入空行\n",
        "# 定義csv欄位名稱\n",
        "# 建立csv寫入器\n",
        "# 寫入csv檔案的標頭行\n",
        "# 寫入所有工作資訊到csv檔案中\n",
        "csv_file = './dune_series_book_info.csv'\n",
        "with open(csv_file, mode='w', newline='') as fp:\n",
        "    fieldnames = ['title', 'author', 'stars', 'rates', 'published', 'editions', 'url']\n",
        "    writer = csv.DictWriter(fp, fieldnames=fieldnames)\n",
        "    writer.writeheader()\n",
        "    writer.writerows(books_info)\n"
      ],
      "metadata": {
        "id": "aga_Y-EJvilk"
      },
      "execution_count": null,
      "outputs": []
    }
  ]
}